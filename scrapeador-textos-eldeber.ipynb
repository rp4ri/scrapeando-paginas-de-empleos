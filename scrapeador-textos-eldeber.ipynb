{
 "cells": [
  {
   "cell_type": "code",
   "execution_count": 83,
   "metadata": {},
   "outputs": [],
   "source": [
    "from bs4 import BeautifulSoup\n",
    "import math\n",
    "import requests\n",
    "import re\n",
    "import pandas as pd\n",
    "from datetime import datetime"
   ]
  },
  {
   "cell_type": "code",
   "execution_count": 3,
   "metadata": {},
   "outputs": [],
   "source": [
    "# Con la libreria beautifulsoup, obtenemos el html de la pagina\n",
    "r = requests.get('https://clasificados.eldeber.com.bo/contrata2?page=1')\n",
    "html = r.text\n",
    "soup = BeautifulSoup(html, 'html.parser')\n",
    "#print(soup)"
   ]
  },
  {
   "cell_type": "code",
   "execution_count": 20,
   "metadata": {},
   "outputs": [
    {
     "data": {
      "text/plain": [
       "9"
      ]
     },
     "execution_count": 20,
     "metadata": {},
     "output_type": "execute_result"
    }
   ],
   "source": [
    "# Obtenemos el numero de paginas\n",
    "for st in soup.find_all('strong'):\n",
    "    if 'tiene ' in st.text:\n",
    "        posi = st.text.find('tiene ')\n",
    "        posf = st.text.find(' resultados')\n",
    "        num = int(st.text[posi+6:posf])\n",
    "\n",
    "num_pag = math.floor(num/20)+1\n",
    "num_pag"
   ]
  },
  {
   "cell_type": "code",
   "execution_count": 87,
   "metadata": {},
   "outputs": [
    {
     "data": {
      "text/html": [
       "<div>\n",
       "<style scoped>\n",
       "    .dataframe tbody tr th:only-of-type {\n",
       "        vertical-align: middle;\n",
       "    }\n",
       "\n",
       "    .dataframe tbody tr th {\n",
       "        vertical-align: top;\n",
       "    }\n",
       "\n",
       "    .dataframe thead th {\n",
       "        text-align: right;\n",
       "    }\n",
       "</style>\n",
       "<table border=\"1\" class=\"dataframe\">\n",
       "  <thead>\n",
       "    <tr style=\"text-align: right;\">\n",
       "      <th></th>\n",
       "      <th>TEXTO</th>\n",
       "      <th>FECHA</th>\n",
       "    </tr>\n",
       "  </thead>\n",
       "  <tbody>\n",
       "    <tr>\n",
       "      <th>0</th>\n",
       "      <td>REQUISITOS:| Bachiller en Humanidades, experie...</td>\n",
       "      <td>02/11/2021</td>\n",
       "    </tr>\n",
       "    <tr>\n",
       "      <th>1</th>\n",
       "      <td>NECESITO CERRADORES DE COLCHONES| Y COSTUREROS...</td>\n",
       "      <td>02/11/2021</td>\n",
       "    </tr>\n",
       "    <tr>\n",
       "      <th>2</th>\n",
       "      <td>SE NECESITA SUPERVISOR/JEFE OPERATIVO| con Lic...</td>\n",
       "      <td>02/11/2021</td>\n",
       "    </tr>\n",
       "    <tr>\n",
       "      <th>3</th>\n",
       "      <td>BUSCAMOS ASISTENTE COMERCIAL CON| experiencia ...</td>\n",
       "      <td>02/11/2021</td>\n",
       "    </tr>\n",
       "    <tr>\n",
       "      <th>4</th>\n",
       "      <td>EMPRESA DEL RUBRO DE| Cosméticos necesita los ...</td>\n",
       "      <td>02/11/2021</td>\n",
       "    </tr>\n",
       "    <tr>\n",
       "      <th>...</th>\n",
       "      <td>...</td>\n",
       "      <td>...</td>\n",
       "    </tr>\n",
       "    <tr>\n",
       "      <th>171</th>\n",
       "      <td>SE PRECISA PERSONA AGIL,| dinámica, responsabl...</td>\n",
       "      <td>02/11/2021</td>\n",
       "    </tr>\n",
       "    <tr>\n",
       "      <th>172</th>\n",
       "      <td>EMPRESA INDUSTRIAL REQUIERE DE| personal de pr...</td>\n",
       "      <td>02/11/2021</td>\n",
       "    </tr>\n",
       "    <tr>\n",
       "      <th>173</th>\n",
       "      <td>NECESITO PERSONAL FEMENINO PARA| el área del c...</td>\n",
       "      <td>02/11/2021</td>\n",
       "    </tr>\n",
       "    <tr>\n",
       "      <th>174</th>\n",
       "      <td>NECESITO MENSAJEROS (AMBOS SEXOS| ), con motos...</td>\n",
       "      <td>02/11/2021</td>\n",
       "    </tr>\n",
       "    <tr>\n",
       "      <th>175</th>\n",
       "      <td>AGENCIA DESPACHANTE DE ADUANA| requiere un(a) ...</td>\n",
       "      <td>02/11/2021</td>\n",
       "    </tr>\n",
       "  </tbody>\n",
       "</table>\n",
       "<p>176 rows × 2 columns</p>\n",
       "</div>"
      ],
      "text/plain": [
       "                                                 TEXTO       FECHA\n",
       "0    REQUISITOS:| Bachiller en Humanidades, experie...  02/11/2021\n",
       "1    NECESITO CERRADORES DE COLCHONES| Y COSTUREROS...  02/11/2021\n",
       "2    SE NECESITA SUPERVISOR/JEFE OPERATIVO| con Lic...  02/11/2021\n",
       "3    BUSCAMOS ASISTENTE COMERCIAL CON| experiencia ...  02/11/2021\n",
       "4    EMPRESA DEL RUBRO DE| Cosméticos necesita los ...  02/11/2021\n",
       "..                                                 ...         ...\n",
       "171  SE PRECISA PERSONA AGIL,| dinámica, responsabl...  02/11/2021\n",
       "172  EMPRESA INDUSTRIAL REQUIERE DE| personal de pr...  02/11/2021\n",
       "173  NECESITO PERSONAL FEMENINO PARA| el área del c...  02/11/2021\n",
       "174  NECESITO MENSAJEROS (AMBOS SEXOS| ), con motos...  02/11/2021\n",
       "175  AGENCIA DESPACHANTE DE ADUANA| requiere un(a) ...  02/11/2021\n",
       "\n",
       "[176 rows x 2 columns]"
      ]
     },
     "execution_count": 87,
     "metadata": {},
     "output_type": "execute_result"
    }
   ],
   "source": [
    "#resu = len(soup.find_all('p'))\n",
    "\n",
    "dictt = {'TEXTO': [], 'FECHA': []}\n",
    "dictt = pd.DataFrame(dictt)\n",
    "for j in range(num_pag):\n",
    "    r = requests.get('https://clasificados.eldeber.com.bo/contrata2?page='+str(j))\n",
    "    html = r.text\n",
    "    soup = BeautifulSoup(html, 'html.parser')\n",
    "    resu = len(soup.find_all('p'))\n",
    "    for i in range(1,resu-4):\n",
    "        row = soup.find_all('p')[i].text\n",
    "        #day month year\n",
    "        aux = {'TEXTO': row, 'FECHA': datetime.today().strftime('%d/%m/%Y')}\n",
    "        dictt = dictt.append(aux, ignore_index=True)\n",
    "dictt"
   ]
  },
  {
   "cell_type": "code",
   "execution_count": 90,
   "metadata": {},
   "outputs": [],
   "source": [
    "dictt.to_json('C:/Users/TELMA/Desktop/trabajos/contrata2 clasificados el deber/'+str(datetime.today().strftime('%d_%m_%Y'))+'.json', orient='records')"
   ]
  },
  {
   "cell_type": "code",
   "execution_count": 96,
   "metadata": {},
   "outputs": [],
   "source": [
    "# get json archive\n",
    "a = pd.read_json('C:/Users/TELMA/Desktop/trabajos/contrata2 clasificados el deber/'+str(datetime.today().strftime('%d_%m_%Y'))+'.json', orient='records')"
   ]
  },
  {
   "cell_type": "code",
   "execution_count": 97,
   "metadata": {},
   "outputs": [
    {
     "name": "stdout",
     "output_type": "stream",
     "text": [
      "                                                 TEXTO       FECHA\n",
      "0    REQUISITOS:| Bachiller en Humanidades, experie...  02/11/2021\n",
      "1    NECESITO CERRADORES DE COLCHONES| Y COSTUREROS...  02/11/2021\n",
      "2    SE NECESITA SUPERVISOR/JEFE OPERATIVO| con Lic...  02/11/2021\n",
      "3    BUSCAMOS ASISTENTE COMERCIAL CON| experiencia ...  02/11/2021\n",
      "4    EMPRESA DEL RUBRO DE| Cosméticos necesita los ...  02/11/2021\n",
      "..                                                 ...         ...\n",
      "171  SE PRECISA PERSONA AGIL,| dinámica, responsabl...  02/11/2021\n",
      "172  EMPRESA INDUSTRIAL REQUIERE DE| personal de pr...  02/11/2021\n",
      "173  NECESITO PERSONAL FEMENINO PARA| el área del c...  02/11/2021\n",
      "174  NECESITO MENSAJEROS (AMBOS SEXOS| ), con motos...  02/11/2021\n",
      "175  AGENCIA DESPACHANTE DE ADUANA| requiere un(a) ...  02/11/2021\n",
      "\n",
      "[176 rows x 2 columns]\n"
     ]
    }
   ],
   "source": [
    "print(a)"
   ]
  },
  {
   "cell_type": "code",
   "execution_count": null,
   "metadata": {},
   "outputs": [],
   "source": []
  }
 ],
 "metadata": {
  "interpreter": {
   "hash": "cef9e06bb236b2a8629b07e87a04b187b952a0f661eff5533360a155783f0c33"
  },
  "kernelspec": {
   "display_name": "Python 3.8.5 64-bit ('base': conda)",
   "name": "python3"
  },
  "language_info": {
   "codemirror_mode": {
    "name": "ipython",
    "version": 3
   },
   "file_extension": ".py",
   "mimetype": "text/x-python",
   "name": "python",
   "nbconvert_exporter": "python",
   "pygments_lexer": "ipython3",
   "version": "3.8.5"
  },
  "orig_nbformat": 4
 },
 "nbformat": 4,
 "nbformat_minor": 2
}
